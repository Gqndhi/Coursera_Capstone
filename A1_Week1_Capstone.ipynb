{
  "nbformat": 4,
  "nbformat_minor": 0,
  "metadata": {
    "colab": {
      "name": "A1-Week1-Capstone",
      "provenance": [],
      "authorship_tag": "ABX9TyNj/N7Voty6ewQ/H389wWeR",
      "include_colab_link": true
    },
    "kernelspec": {
      "name": "python3",
      "display_name": "Python 3"
    }
  },
  "cells": [
    {
      "cell_type": "markdown",
      "metadata": {
        "id": "view-in-github",
        "colab_type": "text"
      },
      "source": [
        "<a href=\"https://colab.research.google.com/github/Gqndhi/Coursera_Capstone/blob/master/A1_Week1_Capstone.ipynb\" target=\"_parent\"><img src=\"https://colab.research.google.com/assets/colab-badge.svg\" alt=\"Open In Colab\"/></a>"
      ]
    },
    {
      "cell_type": "markdown",
      "metadata": {
        "id": "_i_CWsOriV3V",
        "colab_type": "text"
      },
      "source": [
        "## **IBM: Applied Data Science Capstone Project**\n",
        "\n",
        "---\n",
        "\n",
        "\n",
        "This notebook will be used for the completion of the capstone project."
      ]
    },
    {
      "cell_type": "code",
      "metadata": {
        "id": "xEDEfwWci_T-",
        "colab_type": "code",
        "colab": {
          "base_uri": "https://localhost:8080/",
          "height": 35
        },
        "outputId": "677921c2-28df-49d9-bd77-9e03ff593337"
      },
      "source": [
        "import pandas as pd\n",
        "import numpy as np\n",
        " \n",
        "print('Hello Capstone Project Course')"
      ],
      "execution_count": 2,
      "outputs": [
        {
          "output_type": "stream",
          "text": [
            "Hello Capstone Project Course\n"
          ],
          "name": "stdout"
        }
      ]
    }
  ]
}