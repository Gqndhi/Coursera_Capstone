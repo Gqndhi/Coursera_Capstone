{
  "nbformat": 4,
  "nbformat_minor": 0,
  "metadata": {
    "colab": {
      "name": "A3_Week4_Capstone-ReportP1",
      "provenance": [],
      "authorship_tag": "ABX9TyOEkN90QSDqHSfeh4FSEPfM"
    },
    "kernelspec": {
      "name": "python3",
      "display_name": "Python 3"
    }
  },
  "cells": [
    {
      "cell_type": "markdown",
      "metadata": {
        "id": "qF0WtAQSvOzm",
        "colab_type": "text"
      },
      "source": [
        "#Capstone Project Business Problem\n",
        "\n",
        "---\n",
        "###                                     Opening a shopping centre in Toronto, Canada\n",
        "\n",
        "####Introduction:\n",
        "A shopping mall (or simply mall) is a North American term for a large indoor shopping center, usually anchored by department stores. The term \"mall\" originally meant a pedestrian promenade with shops along it (that is, the term was used to refer to the walkway itself), but in the late 1960s, it began to be used as a generic term for the large enclosed shopping centers that were becoming commonplace at the time. In the U.K., such complexes are considered shopping centers, though \"shopping center\" covers many more sizes and types of centers than the North American \"mall\". Other countries may follow U.S. usage (India,U.A.E., etc.) and others (Australia,Canada etc.) follow U.K. usage.\n",
        "\n",
        "####Business Problem:\n",
        "The objective of this capstone project is to analyse and select the best locations in the city of Toronto, Canada to open a new shopping mall. Using data science methodology and clustering, this project aims to provide solutions to answer the business\n",
        "question: In the city of Toronto, Canada, if a property developer is looking to open a new shopping mall, where would you recommend that they open it?\n",
        "\n",
        "####Target Audience of this project:\n",
        "This project is particularly useful to property developers and investors looking to open or invest in\n",
        "new shopping malls in the capital city of Canada i.e. Toronto. This project is timely as the city\n",
        "is currently suffering from oversupply of shopping malls. Data from the National Property\n",
        "Information Centre (NAPIC) released last year showed that an additional 15 per cent will be added to\n",
        "existing mall space, and the agency predicted that total occupancy may dip below 86 per cent. The\n",
        "local newspaper Telegraph-Journal also reported in March last year that the true occupancy rates in\n",
        "malls may be as low as 40 per cent in some areas, quoting a Financial Times (FT) article cataloguing\n",
        "the country's continued obsession with building more shopping space despite chronic oversupply.\n",
        "\n",
        "\n",
        "\n",
        "\n",
        "\n"
      ]
    }
  ]
}