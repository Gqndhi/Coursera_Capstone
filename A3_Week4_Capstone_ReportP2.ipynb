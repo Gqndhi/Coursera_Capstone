{
  "nbformat": 4,
  "nbformat_minor": 0,
  "metadata": {
    "colab": {
      "name": "A3_Week4_Capstone-ReportP2",
      "provenance": [],
      "authorship_tag": "ABX9TyMZpFDciAx42YLyi7GigiRP"
    },
    "kernelspec": {
      "name": "python3",
      "display_name": "Python 3"
    }
  },
  "cells": [
    {
      "cell_type": "markdown",
      "metadata": {
        "id": "9YrgbDhB1LOt",
        "colab_type": "text"
      },
      "source": [
        "#Capstone Project Data \n",
        "---\n",
        "###                                     Opening a shopping centre in Toronto, Canada\n",
        "####The following data is used to solve the Problem\n",
        "• List of neighbourhoods in Toronto. This defines the scope of this project which is\n",
        "confined to the city of Toronto, the capital city of the country of Canada in North America.\n",
        "• Latitude and Longitude coordinates of those neighbourhoods. This is required to\n",
        "plot the map and also to get the venue data.\n",
        "• Venue data, particularly data related to shopping malls. We will use this data to perform\n",
        "clustering on the neighbourhoods.\n",
        "####Data Sources and Libraries\n",
        "This Wikipedia page (\"https://en.wikipedia.org/wiki/List_of_postal_codes_of_Canada:_M\") contains a\n",
        "list of neighbourhoods in Toronto. We will use web scraping\n",
        "techniques to extract the data from the Wikipedia page, with the help of Python requests and\n",
        "beautifulsoup packages. Then we will get the geographical coordinates of the neighbourhoods using\n",
        "Python Geocoder package which will give us the latitude and longitude coordinates of the\n",
        "neighbourhoods.<br>\n",
        "After that, we will use Foursquare API to get the venue data for those neighbourhoods. Foursquare\n",
        "has one of the largest database of 105+ million places and is used by over 125,000 developers.\n",
        "Foursquare API will provide many categories of the venue data, we are particularly interested in the\n",
        "Shopping Mall category in order to help us to solve the business problem put forward.<br>\n",
        "Scikit learn will be used for Kmeans clutering. Pandas is a software library written for the Python programming language for data manipulation and analysis. In particular, it offers data structures and operations for manipulating numerical tables and time series and will be used to do the same.\n",
        "NumPy is a library for the Python programming language, adding support for large, multi-dimensional arrays and matrices, along with a large collection of high-level mathematical functions to operate on these arrays.<br>\n",
        "This is a project that will make use of many data science skills, from web scraping (Wikipedia), working with\n",
        "API (Foursquare), data cleaning, data wrangling, to machine learning (K-means clustering) and map\n",
        "visualization (Folium). In the next section, we will present the Methodology section where we will\n",
        "discuss the steps taken in this project, the data analysis that we did and the machine learning\n",
        "technique that was used.\n"
      ]
    }
  ]
}